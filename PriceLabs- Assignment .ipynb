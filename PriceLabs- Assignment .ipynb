{
 "cells": [
  {
   "cell_type": "code",
   "execution_count": 21,
   "id": "7c25f602",
   "metadata": {},
   "outputs": [],
   "source": [
    "import os\n",
    "import pandas as pd\n",
    "import numpy as np"
   ]
  },
  {
   "cell_type": "code",
   "execution_count": 22,
   "id": "e60d0e14",
   "metadata": {},
   "outputs": [
    {
     "data": {
      "text/plain": [
       "1"
      ]
     },
     "execution_count": 22,
     "metadata": {},
     "output_type": "execute_result"
    }
   ],
   "source": [
    "numlist = [1,4,2,-2,-9,10,2,12,2,-4,-4,-4,-4,2,6,7]\n",
    "array_ = np.array([1,4,2,-2,-9,10,2,12,2,-4,-4,-4,-4,2,6,7])\n",
    "array_[0]"
   ]
  },
  {
   "cell_type": "code",
   "execution_count": 23,
   "id": "ad665c18",
   "metadata": {},
   "outputs": [],
   "source": [
    "peak = array_[0]\n",
    "index = 0\n",
    "output = []\n",
    "\n",
    "for x in range(0,len(array_)-1):\n",
    "    if(array_[x]*array_[x-1] > 0):\n",
    "        if((peak < 0) & array_[x] < peak):\n",
    "            peak = array_[x]\n",
    "            index = x\n",
    "        if((peak >= 0) & array_[x] > peak):\n",
    "            peak = array_[x]\n",
    "            index = x\n",
    "    else:\n",
    "        output += [(index,peak)]\n",
    "        peak = array_[x]\n",
    "        index = x\n",
    "        "
   ]
  },
  {
   "cell_type": "code",
   "execution_count": 24,
   "id": "763b6bc9",
   "metadata": {},
   "outputs": [
    {
     "data": {
      "text/plain": [
       "[(2, 2), (4, -9), (8, 2), (12, -4)]"
      ]
     },
     "execution_count": 24,
     "metadata": {},
     "output_type": "execute_result"
    }
   ],
   "source": [
    "output"
   ]
  }
 ],
 "metadata": {
  "kernelspec": {
   "display_name": "Python 3 (ipykernel)",
   "language": "python",
   "name": "python3"
  },
  "language_info": {
   "codemirror_mode": {
    "name": "ipython",
    "version": 3
   },
   "file_extension": ".py",
   "mimetype": "text/x-python",
   "name": "python",
   "nbconvert_exporter": "python",
   "pygments_lexer": "ipython3",
   "version": "3.9.9"
  }
 },
 "nbformat": 4,
 "nbformat_minor": 5
}
