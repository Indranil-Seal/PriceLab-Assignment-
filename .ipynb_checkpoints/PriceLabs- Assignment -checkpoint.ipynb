{
 "cells": [
  {
   "cell_type": "code",
   "execution_count": 17,
   "id": "e4bf8584",
   "metadata": {},
   "outputs": [],
   "source": [
    "import os\n",
    "import pandas as pd\n",
    "import numpy as np"
   ]
  },
  {
   "cell_type": "code",
   "execution_count": 18,
   "id": "90078da1",
   "metadata": {},
   "outputs": [
    {
     "data": {
      "text/plain": [
       "1"
      ]
     },
     "execution_count": 18,
     "metadata": {},
     "output_type": "execute_result"
    }
   ],
   "source": [
    "numlist = [1,4,2,-2,-9,10,2,12,2,-4,-4,-4,-4,2,6,7]\n",
    "array_ = np.array([1,4,2,-2,-9,10,2,12,2,-4,-4,-4,-4,2,6,7])\n",
    "array_[0]"
   ]
  },
  {
   "cell_type": "code",
   "execution_count": 19,
   "id": "1e6c6e68",
   "metadata": {},
   "outputs": [],
   "source": [
    "peak = array_[0]\n",
    "index = 0\n",
    "output = []\n",
    "\n",
    "for x in range(0,len(array_)-1):\n",
    "    if(array_[x]*array_[x-1] > 0):\n",
    "        if((peak < 0) & array_[x] < peak):\n",
    "            peak = array_[x]\n",
    "            index = x\n",
    "        if((peak >= 0) & array_[x] > peak):\n",
    "            peak = array_[x]\n",
    "            index = x\n",
    "    else:\n",
    "        output += [(index,peak)]\n",
    "        peak = array_[x]\n",
    "        index = x\n",
    "        "
   ]
  },
  {
   "cell_type": "code",
   "execution_count": 20,
   "id": "9551704b",
   "metadata": {},
   "outputs": [
    {
     "data": {
      "text/plain": [
       "[(2, 2), (4, -9), (8, 2), (12, -4)]"
      ]
     },
     "execution_count": 20,
     "metadata": {},
     "output_type": "execute_result"
    }
   ],
   "source": [
    "output"
   ]
  }
 ],
 "metadata": {
  "kernelspec": {
   "display_name": "Python 3 (ipykernel)",
   "language": "python",
   "name": "python3"
  },
  "language_info": {
   "codemirror_mode": {
    "name": "ipython",
    "version": 3
   },
   "file_extension": ".py",
   "mimetype": "text/x-python",
   "name": "python",
   "nbconvert_exporter": "python",
   "pygments_lexer": "ipython3",
   "version": "3.9.9"
  }
 },
 "nbformat": 4,
 "nbformat_minor": 5
}
